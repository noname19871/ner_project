{
 "cells": [
  {
   "cell_type": "code",
   "execution_count": 1,
   "metadata": {
    "_cell_guid": "79c7e3d0-c299-4dcb-8224-4455121ee9b0",
    "_uuid": "d629ff2d2480ee46fbb7e2d37f6b5fab8052498a"
   },
   "outputs": [
    {
     "name": "stderr",
     "output_type": "stream",
     "text": [
      "Using TensorFlow backend.\n"
     ]
    }
   ],
   "source": [
    "import pandas as pd\n",
    "import math\n",
    "import numpy as np\n",
    "from seqeval.metrics import classification_report,accuracy_score,f1_score\n",
    "import torch.nn.functional as F\n",
    "import torch\n",
    "import os\n",
    "from tqdm import tqdm,trange\n",
    "from torch.optim import Adam\n",
    "from torch.utils.data import TensorDataset, DataLoader, RandomSampler, SequentialSampler\n",
    "from keras.preprocessing.sequence import pad_sequences\n",
    "from sklearn.model_selection import train_test_split\n",
    "from pytorch_transformers import BertTokenizer, BertConfig\n",
    "from pytorch_transformers import BertForTokenClassification, AdamW\n",
    "\n",
    "%matplotlib inline\n",
    "import matplotlib.pyplot as plt\n",
    "import seaborn as sns\n",
    "sns.set(style='darkgrid')\n",
    "\n",
    "import warnings\n",
    "warnings.filterwarnings('ignore')"
   ]
  },
  {
   "cell_type": "code",
   "execution_count": 2,
   "metadata": {},
   "outputs": [],
   "source": [
    "train = pd.read_csv(\"data/train.csv\", sep=\",\", encoding=\"latin1\")\n",
    "val = pd.read_csv(\"data/val.csv\", sep=\",\", encoding=\"latin1\")\n",
    "test = pd.read_csv(\"data/test.csv\", sep=\",\", encoding=\"latin1\")\n",
    "data = pd.read_csv(\"data/ner_dataset.csv\", sep=\",\", encoding=\"latin1\").fillna(method=\"ffill\")"
   ]
  },
  {
   "cell_type": "code",
   "execution_count": 3,
   "metadata": {},
   "outputs": [
    {
     "data": {
      "text/html": [
       "<div>\n",
       "<style scoped>\n",
       "    .dataframe tbody tr th:only-of-type {\n",
       "        vertical-align: middle;\n",
       "    }\n",
       "\n",
       "    .dataframe tbody tr th {\n",
       "        vertical-align: top;\n",
       "    }\n",
       "\n",
       "    .dataframe thead th {\n",
       "        text-align: right;\n",
       "    }\n",
       "</style>\n",
       "<table border=\"1\" class=\"dataframe\">\n",
       "  <thead>\n",
       "    <tr style=\"text-align: right;\">\n",
       "      <th></th>\n",
       "      <th>Unnamed: 0</th>\n",
       "      <th>Sentence #</th>\n",
       "      <th>Word</th>\n",
       "      <th>Tag</th>\n",
       "    </tr>\n",
       "  </thead>\n",
       "  <tbody>\n",
       "    <tr>\n",
       "      <th>0</th>\n",
       "      <td>0</td>\n",
       "      <td>Sentence: 1</td>\n",
       "      <td>Italian</td>\n",
       "      <td>B-gpe</td>\n",
       "    </tr>\n",
       "    <tr>\n",
       "      <th>1</th>\n",
       "      <td>1</td>\n",
       "      <td>Sentence: 1</td>\n",
       "      <td>police</td>\n",
       "      <td>O</td>\n",
       "    </tr>\n",
       "    <tr>\n",
       "      <th>2</th>\n",
       "      <td>2</td>\n",
       "      <td>Sentence: 1</td>\n",
       "      <td>led</td>\n",
       "      <td>O</td>\n",
       "    </tr>\n",
       "    <tr>\n",
       "      <th>3</th>\n",
       "      <td>3</td>\n",
       "      <td>Sentence: 1</td>\n",
       "      <td>the</td>\n",
       "      <td>O</td>\n",
       "    </tr>\n",
       "    <tr>\n",
       "      <th>4</th>\n",
       "      <td>4</td>\n",
       "      <td>Sentence: 1</td>\n",
       "      <td>operation</td>\n",
       "      <td>O</td>\n",
       "    </tr>\n",
       "  </tbody>\n",
       "</table>\n",
       "</div>"
      ],
      "text/plain": [
       "   Unnamed: 0   Sentence #       Word    Tag\n",
       "0           0  Sentence: 1    Italian  B-gpe\n",
       "1           1  Sentence: 1     police      O\n",
       "2           2  Sentence: 1        led      O\n",
       "3           3  Sentence: 1        the      O\n",
       "4           4  Sentence: 1  operation      O"
      ]
     },
     "execution_count": 3,
     "metadata": {},
     "output_type": "execute_result"
    }
   ],
   "source": [
    "train.head()"
   ]
  },
  {
   "cell_type": "code",
   "execution_count": 4,
   "metadata": {},
   "outputs": [
    {
     "data": {
      "text/html": [
       "<div>\n",
       "<style scoped>\n",
       "    .dataframe tbody tr th:only-of-type {\n",
       "        vertical-align: middle;\n",
       "    }\n",
       "\n",
       "    .dataframe tbody tr th {\n",
       "        vertical-align: top;\n",
       "    }\n",
       "\n",
       "    .dataframe thead th {\n",
       "        text-align: right;\n",
       "    }\n",
       "</style>\n",
       "<table border=\"1\" class=\"dataframe\">\n",
       "  <thead>\n",
       "    <tr style=\"text-align: right;\">\n",
       "      <th></th>\n",
       "      <th>Unnamed: 0</th>\n",
       "      <th>Sentence #</th>\n",
       "      <th>Word</th>\n",
       "      <th>Tag</th>\n",
       "    </tr>\n",
       "  </thead>\n",
       "  <tbody>\n",
       "    <tr>\n",
       "      <th>0</th>\n",
       "      <td>0</td>\n",
       "      <td>Sentence: 1</td>\n",
       "      <td>The</td>\n",
       "      <td>O</td>\n",
       "    </tr>\n",
       "    <tr>\n",
       "      <th>1</th>\n",
       "      <td>1</td>\n",
       "      <td>Sentence: 1</td>\n",
       "      <td>Kurdish</td>\n",
       "      <td>O</td>\n",
       "    </tr>\n",
       "    <tr>\n",
       "      <th>2</th>\n",
       "      <td>2</td>\n",
       "      <td>Sentence: 1</td>\n",
       "      <td>party</td>\n",
       "      <td>O</td>\n",
       "    </tr>\n",
       "    <tr>\n",
       "      <th>3</th>\n",
       "      <td>3</td>\n",
       "      <td>Sentence: 1</td>\n",
       "      <td>has</td>\n",
       "      <td>O</td>\n",
       "    </tr>\n",
       "    <tr>\n",
       "      <th>4</th>\n",
       "      <td>4</td>\n",
       "      <td>Sentence: 1</td>\n",
       "      <td>fought</td>\n",
       "      <td>O</td>\n",
       "    </tr>\n",
       "  </tbody>\n",
       "</table>\n",
       "</div>"
      ],
      "text/plain": [
       "   Unnamed: 0   Sentence #     Word Tag\n",
       "0           0  Sentence: 1      The   O\n",
       "1           1  Sentence: 1  Kurdish   O\n",
       "2           2  Sentence: 1    party   O\n",
       "3           3  Sentence: 1      has   O\n",
       "4           4  Sentence: 1   fought   O"
      ]
     },
     "execution_count": 4,
     "metadata": {},
     "output_type": "execute_result"
    }
   ],
   "source": [
    "val.head()"
   ]
  },
  {
   "cell_type": "code",
   "execution_count": 5,
   "metadata": {},
   "outputs": [
    {
     "data": {
      "text/html": [
       "<div>\n",
       "<style scoped>\n",
       "    .dataframe tbody tr th:only-of-type {\n",
       "        vertical-align: middle;\n",
       "    }\n",
       "\n",
       "    .dataframe tbody tr th {\n",
       "        vertical-align: top;\n",
       "    }\n",
       "\n",
       "    .dataframe thead th {\n",
       "        text-align: right;\n",
       "    }\n",
       "</style>\n",
       "<table border=\"1\" class=\"dataframe\">\n",
       "  <thead>\n",
       "    <tr style=\"text-align: right;\">\n",
       "      <th></th>\n",
       "      <th>Unnamed: 0</th>\n",
       "      <th>Sentence #</th>\n",
       "      <th>Word</th>\n",
       "      <th>Tag</th>\n",
       "    </tr>\n",
       "  </thead>\n",
       "  <tbody>\n",
       "    <tr>\n",
       "      <th>0</th>\n",
       "      <td>0</td>\n",
       "      <td>Sentence: 1</td>\n",
       "      <td>The</td>\n",
       "      <td>O</td>\n",
       "    </tr>\n",
       "    <tr>\n",
       "      <th>1</th>\n",
       "      <td>1</td>\n",
       "      <td>Sentence: 1</td>\n",
       "      <td>report</td>\n",
       "      <td>O</td>\n",
       "    </tr>\n",
       "    <tr>\n",
       "      <th>2</th>\n",
       "      <td>2</td>\n",
       "      <td>Sentence: 1</td>\n",
       "      <td>calls</td>\n",
       "      <td>O</td>\n",
       "    </tr>\n",
       "    <tr>\n",
       "      <th>3</th>\n",
       "      <td>3</td>\n",
       "      <td>Sentence: 1</td>\n",
       "      <td>on</td>\n",
       "      <td>O</td>\n",
       "    </tr>\n",
       "    <tr>\n",
       "      <th>4</th>\n",
       "      <td>4</td>\n",
       "      <td>Sentence: 1</td>\n",
       "      <td>President</td>\n",
       "      <td>B-per</td>\n",
       "    </tr>\n",
       "  </tbody>\n",
       "</table>\n",
       "</div>"
      ],
      "text/plain": [
       "   Unnamed: 0   Sentence #       Word    Tag\n",
       "0           0  Sentence: 1        The      O\n",
       "1           1  Sentence: 1     report      O\n",
       "2           2  Sentence: 1      calls      O\n",
       "3           3  Sentence: 1         on      O\n",
       "4           4  Sentence: 1  President  B-per"
      ]
     },
     "execution_count": 5,
     "metadata": {},
     "output_type": "execute_result"
    }
   ],
   "source": [
    "test.head()"
   ]
  },
  {
   "cell_type": "code",
   "execution_count": 6,
   "metadata": {},
   "outputs": [
    {
     "data": {
      "text/plain": [
       "O        887908\n",
       "B-geo     37644\n",
       "B-tim     20333\n",
       "B-org     20143\n",
       "I-per     17251\n",
       "B-per     16990\n",
       "I-org     16784\n",
       "B-gpe     15870\n",
       "I-geo      7414\n",
       "I-tim      6528\n",
       "B-art       402\n",
       "B-eve       308\n",
       "I-art       297\n",
       "I-eve       253\n",
       "B-nat       201\n",
       "I-gpe       198\n",
       "I-nat        51\n",
       "Name: Tag, dtype: int64"
      ]
     },
     "execution_count": 6,
     "metadata": {},
     "output_type": "execute_result"
    }
   ],
   "source": [
    "data.Tag.value_counts()"
   ]
  },
  {
   "cell_type": "code",
   "execution_count": 7,
   "metadata": {},
   "outputs": [
    {
     "name": "stdout",
     "output_type": "stream",
     "text": [
      "<class 'pandas.core.frame.DataFrame'>\n",
      "RangeIndex: 1048575 entries, 0 to 1048574\n",
      "Data columns (total 4 columns):\n",
      " #   Column      Non-Null Count    Dtype \n",
      "---  ------      --------------    ----- \n",
      " 0   Sentence #  1048575 non-null  object\n",
      " 1   Word        1048575 non-null  object\n",
      " 2   POS         1048575 non-null  object\n",
      " 3   Tag         1048575 non-null  object\n",
      "dtypes: object(4)\n",
      "memory usage: 32.0+ MB\n"
     ]
    }
   ],
   "source": [
    "data.info()"
   ]
  },
  {
   "cell_type": "code",
   "execution_count": 8,
   "metadata": {},
   "outputs": [],
   "source": [
    "class SentenceGetter(object):\n",
    "    \n",
    "    def __init__(self, data):\n",
    "        self.n_sent = 1\n",
    "        self.data = data\n",
    "        self.empty = False\n",
    "        agg_func = lambda s: [(w, t) for w, t in zip(s[\"Word\"].values.tolist(),\n",
    "                                                           s[\"Tag\"].values.tolist())]\n",
    "        self.grouped = self.data.groupby(\"Sentence #\").apply(agg_func)\n",
    "        self.sentences = [s for s in self.grouped]\n",
    "    \n",
    "    def get_next(self):\n",
    "        try:\n",
    "            s = self.grouped[\"Sentence: {}\".format(self.n_sent)]\n",
    "            self.n_sent += 1\n",
    "            return s\n",
    "        except:\n",
    "            return None"
   ]
  },
  {
   "cell_type": "code",
   "execution_count": 9,
   "metadata": {},
   "outputs": [],
   "source": [
    "train_getter = SentenceGetter(train)\n",
    "val_getter = SentenceGetter(val)\n",
    "test_getter = SentenceGetter(test)\n",
    "getter = SentenceGetter(data)"
   ]
  },
  {
   "cell_type": "code",
   "execution_count": 10,
   "metadata": {},
   "outputs": [],
   "source": [
    "train_sentences = [[s[0] for s in sent] for sent in train_getter.sentences]\n",
    "val_sentences = [[s[0] for s in sent] for sent in val_getter.sentences]\n",
    "test_sentences = [[s[0] for s in sent] for sent in test_getter.sentences]\n",
    "sentences = [[s[0] for s in sent] for sent in getter.sentences]"
   ]
  },
  {
   "cell_type": "code",
   "execution_count": 11,
   "metadata": {},
   "outputs": [
    {
     "name": "stdout",
     "output_type": "stream",
     "text": [
      "['Italian', 'police', 'led', 'the', 'operation', ',', 'arresting', '41', 'Bulgarian', 'nationals', 'in', 'Italy', ',', 'Bulgaria', ',', 'Austria', ',', 'and', 'Germany', '.']\n",
      "['The', 'Kurdish', 'party', 'has', 'fought', 'for', 'decades', 'for', 'the', 'creation', 'of', 'an', 'independent', 'Kurdish', 'state', 'in', 'southeastern', 'Turkey', ',', 'at', 'a', 'cost', 'of', 'at', 'least', '30,000', 'lives', '.']\n",
      "['The', 'report', 'calls', 'on', 'President', 'Bush', 'and', 'Congress', 'to', 'urge', 'Chinese', 'officials', 'not', 'to', 'use', 'the', 'global', 'war', 'against', 'terrorism', 'as', 'a', 'pretext', 'to', 'suppress', 'minorities', \"'\", 'rights', '.']\n"
     ]
    }
   ],
   "source": [
    "print(train_sentences[0])\n",
    "print(val_sentences[0])\n",
    "print(test_sentences[0])"
   ]
  },
  {
   "cell_type": "code",
   "execution_count": 12,
   "metadata": {},
   "outputs": [],
   "source": [
    "train_labels = [[s[1] for s in sent] for sent in train_getter.sentences]\n",
    "val_labels = [[s[1] for s in sent] for sent in val_getter.sentences]\n",
    "test_labels = [[s[1] for s in sent] for sent in test_getter.sentences]"
   ]
  },
  {
   "cell_type": "code",
   "execution_count": 13,
   "metadata": {},
   "outputs": [
    {
     "name": "stdout",
     "output_type": "stream",
     "text": [
      "['B-gpe', 'O', 'O', 'O', 'O', 'O', 'O', 'O', 'B-gpe', 'O', 'O', 'B-geo', 'O', 'B-geo', 'O', 'B-geo', 'O', 'O', 'B-geo', 'O']\n",
      "['O', 'O', 'O', 'O', 'O', 'O', 'O', 'O', 'O', 'O', 'O', 'O', 'O', 'O', 'O', 'O', 'O', 'B-geo', 'O', 'O', 'O', 'O', 'O', 'O', 'O', 'O', 'O', 'O']\n",
      "['O', 'O', 'O', 'O', 'B-per', 'I-per', 'O', 'B-org', 'O', 'O', 'B-gpe', 'O', 'O', 'O', 'O', 'O', 'O', 'O', 'O', 'O', 'O', 'O', 'O', 'O', 'O', 'O', 'O', 'O', 'O']\n"
     ]
    }
   ],
   "source": [
    "print(train_labels[0])\n",
    "print(val_labels[0])\n",
    "print(test_labels[0])"
   ]
  },
  {
   "cell_type": "code",
   "execution_count": 14,
   "metadata": {},
   "outputs": [],
   "source": [
    "tags_vals = list(set(data[\"Tag\"].values))"
   ]
  },
  {
   "cell_type": "code",
   "execution_count": 15,
   "metadata": {},
   "outputs": [
    {
     "data": {
      "text/plain": [
       "['I-per',\n",
       " 'B-nat',\n",
       " 'O',\n",
       " 'B-per',\n",
       " 'B-org',\n",
       " 'I-org',\n",
       " 'I-nat',\n",
       " 'B-art',\n",
       " 'B-gpe',\n",
       " 'I-art',\n",
       " 'I-tim',\n",
       " 'B-eve',\n",
       " 'I-eve',\n",
       " 'I-gpe',\n",
       " 'B-geo',\n",
       " 'B-tim',\n",
       " 'I-geo',\n",
       " 'X',\n",
       " '[CLS]',\n",
       " '[SEP]']"
      ]
     },
     "execution_count": 15,
     "metadata": {},
     "output_type": "execute_result"
    }
   ],
   "source": [
    "# Add X label for word piece support\n",
    "# Add [CLS] and [SEP] as in BERT\n",
    "tags_vals.append('X')\n",
    "tags_vals.append('[CLS]')\n",
    "tags_vals.append('[SEP]')\n",
    "tags_vals"
   ]
  },
  {
   "cell_type": "code",
   "execution_count": 16,
   "metadata": {},
   "outputs": [],
   "source": [
    "tag2idx={'B-art': 14,\n",
    " 'B-eve': 16,\n",
    " 'B-geo': 0,\n",
    " 'B-gpe': 13,\n",
    " 'B-nat': 12,\n",
    " 'B-org': 10,\n",
    " 'B-per': 4,\n",
    " 'B-tim': 2,\n",
    " 'I-art': 5,\n",
    " 'I-eve': 7,\n",
    " 'I-geo': 15,\n",
    " 'I-gpe': 8,\n",
    " 'I-nat': 11,\n",
    " 'I-org': 3,\n",
    " 'I-per': 6,\n",
    " 'I-tim': 1,\n",
    " 'X':17,\n",
    " 'O': 9,\n",
    " '[CLS]':18,\n",
    " '[SEP]':19}"
   ]
  },
  {
   "cell_type": "code",
   "execution_count": 17,
   "metadata": {},
   "outputs": [],
   "source": [
    "tag2name={tag2idx[key] : key for key in tag2idx.keys()}\n"
   ]
  },
  {
   "cell_type": "code",
   "execution_count": 18,
   "metadata": {},
   "outputs": [],
   "source": [
    "maxlen = 45"
   ]
  },
  {
   "cell_type": "code",
   "execution_count": 19,
   "metadata": {},
   "outputs": [
    {
     "name": "stdout",
     "output_type": "stream",
     "text": [
      "35180\n"
     ]
    }
   ],
   "source": [
    "words = set(data[\"Word\"].values.tolist() + ['[CLS]', '[SEP]'])\n",
    "n_words = len(words)\n",
    "print(n_words)"
   ]
  },
  {
   "cell_type": "code",
   "execution_count": 20,
   "metadata": {},
   "outputs": [],
   "source": [
    "n_tags = 20"
   ]
  },
  {
   "cell_type": "code",
   "execution_count": 21,
   "metadata": {},
   "outputs": [],
   "source": [
    "device = torch.device(\"cuda\" if torch.cuda.is_available() else \"cpu\")\n",
    "n_gpu = torch.cuda.device_count()"
   ]
  },
  {
   "cell_type": "code",
   "execution_count": 22,
   "metadata": {},
   "outputs": [
    {
     "data": {
      "text/plain": [
       "1"
      ]
     },
     "execution_count": 22,
     "metadata": {},
     "output_type": "execute_result"
    }
   ],
   "source": [
    "n_gpu"
   ]
  },
  {
   "cell_type": "code",
   "execution_count": 23,
   "metadata": {},
   "outputs": [
    {
     "data": {
      "text/plain": [
       "'GeForce GTX 1660 SUPER'"
      ]
     },
     "execution_count": 23,
     "metadata": {},
     "output_type": "execute_result"
    }
   ],
   "source": [
    "torch.cuda.get_device_name(0)"
   ]
  },
  {
   "cell_type": "code",
   "execution_count": 24,
   "metadata": {},
   "outputs": [],
   "source": [
    "# load tokenizer, with manual file address or pretrained address\n",
    "tokenizer = BertTokenizer.from_pretrained('bert-base-uncased')\n"
   ]
  },
  {
   "cell_type": "code",
   "execution_count": 25,
   "metadata": {},
   "outputs": [],
   "source": [
    "def tokenize_data(sentences, labels):\n",
    "    tokenized_texts = []\n",
    "    word_piece_labels = []\n",
    "    i_inc = 0\n",
    "    for word_list,label in (zip(sentences, labels)):\n",
    "        temp_lable = []\n",
    "        temp_token = []\n",
    "\n",
    "        # Add [CLS] at the front \n",
    "        temp_lable.append('[CLS]')\n",
    "        temp_token.append('[CLS]')\n",
    "\n",
    "        for word,lab in zip(word_list,label):\n",
    "            token_list = tokenizer.tokenize(word)\n",
    "            for m,token in enumerate(token_list):\n",
    "                temp_token.append(token)\n",
    "                if m==0:\n",
    "                    temp_lable.append(lab)\n",
    "                else:\n",
    "                    temp_lable.append('X')  \n",
    "\n",
    "        # Add [SEP] at the end\n",
    "        temp_lable.append('[SEP]')\n",
    "        temp_token.append('[SEP]')\n",
    "\n",
    "        tokenized_texts.append(temp_token)\n",
    "        word_piece_labels.append(temp_lable)\n",
    "        i_inc +=1\n",
    "    return tokenized_texts, word_piece_labels"
   ]
  },
  {
   "cell_type": "code",
   "execution_count": 26,
   "metadata": {},
   "outputs": [],
   "source": [
    "train_tokenized, train_piece_labels = tokenize_data(train_sentences, train_labels)\n",
    "val_tokenized, val_piece_labels = tokenize_data(val_sentences, val_labels)\n",
    "test_tokenized, test_piece_labels = tokenize_data(test_sentences, test_labels)"
   ]
  },
  {
   "cell_type": "code",
   "execution_count": 27,
   "metadata": {},
   "outputs": [],
   "source": [
    "X_train = pad_sequences([tokenizer.convert_tokens_to_ids(txt) for txt in train_tokenized],\n",
    "                  maxlen=maxlen, dtype=\"long\", truncating=\"post\", padding=\"post\")\n",
    "X_val = pad_sequences([tokenizer.convert_tokens_to_ids(txt) for txt in val_tokenized],\n",
    "                  maxlen=maxlen, dtype=\"long\", truncating=\"post\", padding=\"post\")\n",
    "X_test = pad_sequences([tokenizer.convert_tokens_to_ids(txt) for txt in test_tokenized],\n",
    "                  maxlen=maxlen, dtype=\"long\", truncating=\"post\", padding=\"post\")"
   ]
  },
  {
   "cell_type": "code",
   "execution_count": 28,
   "metadata": {},
   "outputs": [],
   "source": [
    "y_train = pad_sequences([[tag2idx.get(l) for l in lab] for lab in train_piece_labels],\n",
    "                     maxlen=maxlen, value=tag2idx[\"O\"], padding=\"post\",\n",
    "                     dtype=\"long\", truncating=\"post\")\n",
    "y_val = pad_sequences([[tag2idx.get(l) for l in lab] for lab in val_piece_labels],\n",
    "                     maxlen=maxlen, value=tag2idx[\"O\"], padding=\"post\",\n",
    "                     dtype=\"long\", truncating=\"post\")\n",
    "y_test = pad_sequences([[tag2idx.get(l) for l in lab] for lab in test_piece_labels],\n",
    "                     maxlen=maxlen, value=tag2idx[\"O\"], padding=\"post\",\n",
    "                     dtype=\"long\", truncating=\"post\")"
   ]
  },
  {
   "cell_type": "code",
   "execution_count": 29,
   "metadata": {},
   "outputs": [],
   "source": [
    "train_att_masks = [[int(i > 0) for i in ii] for ii in X_train]\n",
    "val_att_masks = [[int(i > 0) for i in ii] for ii in X_val]\n",
    "test_att_masks = [[int(i > 0) for i in ii] for ii in X_test]"
   ]
  },
  {
   "cell_type": "code",
   "execution_count": 30,
   "metadata": {},
   "outputs": [],
   "source": [
    "tr_inputs = torch.tensor(X_train)\n",
    "val_inputs = torch.tensor(X_val)\n",
    "test_inputs = torch.tensor(X_test)\n",
    "tr_tags = torch.tensor(y_train)\n",
    "val_tags = torch.tensor(y_val)\n",
    "test_tags = torch.tensor(y_test)\n",
    "tr_masks = torch.tensor(train_att_masks)\n",
    "val_masks = torch.tensor(val_att_masks)\n",
    "test_masks = torch.tensor(test_att_masks)"
   ]
  },
  {
   "cell_type": "code",
   "execution_count": 31,
   "metadata": {},
   "outputs": [],
   "source": [
    "batch_size = 32"
   ]
  },
  {
   "cell_type": "code",
   "execution_count": 32,
   "metadata": {},
   "outputs": [],
   "source": [
    "train_data = TensorDataset(tr_inputs,\n",
    "                           tr_masks,\n",
    "                           tr_tags)\n",
    "train_sampler = SequentialSampler(train_data)\n",
    "train_dataloader = DataLoader(train_data,\n",
    "                              sampler=train_sampler, \n",
    "                              batch_size=batch_size)\n",
    "\n",
    "valid_data = TensorDataset(val_inputs,\n",
    "                           val_masks, \n",
    "                           val_tags)\n",
    "valid_sampler = SequentialSampler(valid_data)\n",
    "valid_dataloader = DataLoader(valid_data,\n",
    "                              sampler=valid_sampler,\n",
    "                              batch_size=batch_size)"
   ]
  },
  {
   "cell_type": "markdown",
   "metadata": {},
   "source": [
    "**TRAIN THE MODEL**"
   ]
  },
  {
   "cell_type": "code",
   "execution_count": 33,
   "metadata": {},
   "outputs": [],
   "source": [
    "model = BertForTokenClassification.from_pretrained(\"bert-base-uncased\",num_labels=n_tags)\n"
   ]
  },
  {
   "cell_type": "code",
   "execution_count": 34,
   "metadata": {},
   "outputs": [],
   "source": [
    "model.cuda();"
   ]
  },
  {
   "cell_type": "code",
   "execution_count": 35,
   "metadata": {},
   "outputs": [],
   "source": [
    "FULL_FINETUNING = True\n",
    "if FULL_FINETUNING:\n",
    "    \n",
    "    param_optimizer = list(model.named_parameters())\n",
    "    \n",
    "    no_decay = ['bias', 'gamma', 'beta']\n",
    "    \n",
    "    optimizer_grouped_parameters = [\n",
    "        {'params': [p for n, p in param_optimizer if not any(nd in n for nd in no_decay)],\n",
    "         'weight_decay_rate': 0.01},\n",
    "        {'params': [p for n, p in param_optimizer if any(nd in n for nd in no_decay)],\n",
    "         'weight_decay_rate': 0.0}\n",
    "    ]\n",
    "else:\n",
    "    param_optimizer = list(model.classifier.named_parameters())\n",
    "    \n",
    "    optimizer_grouped_parameters = [{\"params\": [p for n, p in param_optimizer]}]\n",
    "\n",
    "optimizer = AdamW(\n",
    "    optimizer_grouped_parameters,\n",
    "    lr=2e-5,\n",
    "    eps=1e-8\n",
    ")"
   ]
  },
  {
   "cell_type": "code",
   "execution_count": 36,
   "metadata": {},
   "outputs": [],
   "source": [
    "from transformers import get_linear_schedule_with_warmup\n",
    "\n",
    "epochs = 5\n",
    "max_grad_norm = 1.0\n",
    "\n",
    "# Total number of training steps is number of batches * number of epochs.\n",
    "total_steps = len(train_dataloader) * epochs\n",
    "\n",
    "# Create the learning rate scheduler.\n",
    "scheduler = get_linear_schedule_with_warmup(\n",
    "    optimizer,\n",
    "    num_warmup_steps=0,\n",
    "    num_training_steps=total_steps\n",
    ")"
   ]
  },
  {
   "cell_type": "code",
   "execution_count": 37,
   "metadata": {},
   "outputs": [],
   "source": [
    "def flat_accuracy(preds, labels):\n",
    "    pred_flat = np.argmax(preds, axis=2).flatten()\n",
    "    labels_flat = labels.flatten()\n",
    "    return np.sum(pred_flat == labels_flat) / len(labels_flat)"
   ]
  },
  {
   "cell_type": "code",
   "execution_count": 38,
   "metadata": {},
   "outputs": [
    {
     "name": "stderr",
     "output_type": "stream",
     "text": [
      "\r",
      "Epoch :   0%|                                                                                    | 0/5 [00:00<?, ?it/s]"
     ]
    },
    {
     "name": "stdout",
     "output_type": "stream",
     "text": [
      "################## TRAIN ##################\n",
      "Average train loss: 0.19404654388212494\n",
      "Train Accuracy: 0.9657822971781322\n",
      "Train F1-Score: 0.8234610964210797\n"
     ]
    },
    {
     "name": "stderr",
     "output_type": "stream",
     "text": [
      "\r",
      "Epoch :  20%|███████████████                                                            | 1/5 [05:24<21:38, 324.68s/it]"
     ]
    },
    {
     "name": "stdout",
     "output_type": "stream",
     "text": [
      "\n",
      "################## VALIDATION ##################\n",
      "Validation loss: 0.10140657426168521\n",
      "Validation Accuracy: 0.9788047839506171\n",
      "Validation F1-Score: 0.8740014936519791\n",
      "################## TRAIN ##################\n",
      "Average train loss: 0.0889930038071341\n",
      "Train Accuracy: 0.9788158068783077\n",
      "Train F1-Score: 0.8732528032920839\n"
     ]
    },
    {
     "name": "stderr",
     "output_type": "stream",
     "text": [
      "\r",
      "Epoch :  40%|██████████████████████████████                                             | 2/5 [10:51<16:16, 325.36s/it]"
     ]
    },
    {
     "name": "stdout",
     "output_type": "stream",
     "text": [
      "\n",
      "################## VALIDATION ##################\n",
      "Validation loss: 0.09302738811820746\n",
      "Validation Accuracy: 0.9801234567901234\n",
      "Validation F1-Score: 0.8822498968677696\n",
      "################## TRAIN ##################\n",
      "Average train loss: 0.07267286849725578\n",
      "Train Accuracy: 0.9797468033509696\n",
      "Train F1-Score: 0.8792251819769911\n"
     ]
    },
    {
     "name": "stderr",
     "output_type": "stream",
     "text": [
      "\r",
      "Epoch :  60%|█████████████████████████████████████████████                              | 3/5 [16:19<10:52, 326.10s/it]"
     ]
    },
    {
     "name": "stdout",
     "output_type": "stream",
     "text": [
      "\n",
      "################## VALIDATION ##################\n",
      "Validation loss: 0.09132702485347788\n",
      "Validation Accuracy: 0.9769714506172839\n",
      "Validation F1-Score: 0.8695641908045028\n",
      "################## TRAIN ##################\n",
      "Average train loss: 0.061430596674068104\n",
      "Train Accuracy: 0.9794188712522058\n",
      "Train F1-Score: 0.8784820394199367\n"
     ]
    },
    {
     "name": "stderr",
     "output_type": "stream",
     "text": [
      "\r",
      "Epoch :  80%|████████████████████████████████████████████████████████████               | 4/5 [21:44<05:25, 325.86s/it]"
     ]
    },
    {
     "name": "stdout",
     "output_type": "stream",
     "text": [
      "\n",
      "################## VALIDATION ##################\n",
      "Validation loss: 0.09247102963427703\n",
      "Validation Accuracy: 0.9750192901234571\n",
      "Validation F1-Score: 0.861101363838398\n",
      "################## TRAIN ##################\n",
      "Average train loss: 0.05457937709366282\n",
      "Train Accuracy: 0.9801335978835972\n",
      "Train F1-Score: 0.8829831107049436\n"
     ]
    },
    {
     "name": "stderr",
     "output_type": "stream",
     "text": [
      "Epoch : 100%|███████████████████████████████████████████████████████████████████████████| 5/5 [27:02<00:00, 324.42s/it]"
     ]
    },
    {
     "name": "stdout",
     "output_type": "stream",
     "text": [
      "\n",
      "################## VALIDATION ##################\n",
      "Validation loss: 0.09300046522170305\n",
      "Validation Accuracy: 0.9745501543209879\n",
      "Validation F1-Score: 0.8585700030927054\n"
     ]
    },
    {
     "name": "stderr",
     "output_type": "stream",
     "text": [
      "\n"
     ]
    }
   ],
   "source": [
    "# Store the average loss after each epoch so we can plot them.\n",
    "train_losses, val_losses = [], []\n",
    "train_accuracy, val_accuracy = [], []\n",
    "train_f1, val_f1 = [], []\n",
    "\n",
    "for _ in trange(epochs, desc=\"Epoch \"):\n",
    "    # ========================================\n",
    "    #               Training\n",
    "    # ========================================\n",
    "    # Perform one full pass over the training set.\n",
    "\n",
    "    # Put the model into training mode.\n",
    "    model.train()\n",
    "    # Reset the total loss for this epoch.\n",
    "    total_loss = 0\n",
    "\n",
    "    # Training loop\n",
    "    train_loss, train_acc = 0, 0\n",
    "    \n",
    "    nb_train_steps, nb_train_examples = 0, 0\n",
    "    train_predictions , train_true_labels = [], []\n",
    "    \n",
    "    for step, batch in enumerate(train_dataloader):\n",
    "        \n",
    "        # add batch to gpu\n",
    "        batch = tuple(t.to(device) for t in batch)\n",
    "        b_input_ids, b_input_mask, b_labels = batch\n",
    "        \n",
    "        b_input_ids = b_input_ids.type(torch.LongTensor)\n",
    "        b_input_mask = b_input_mask.type(torch.LongTensor)\n",
    "        b_labels = b_labels.type(torch.LongTensor)\n",
    "        \n",
    "        b_input_ids = b_input_ids.to(device)\n",
    "        b_input_mask = b_input_mask.to(device)\n",
    "        b_labels = b_labels.to(device)\n",
    "        \n",
    "        # Always clear any previously calculated gradients before performing a backward pass.\n",
    "        model.zero_grad()\n",
    "        \n",
    "        # forward pass\n",
    "        # This will return the loss (rather than the model output)\n",
    "        # because we have provided the `labels`.\n",
    "        outputs = model(b_input_ids, \n",
    "                        token_type_ids=None,\n",
    "                        attention_mask=b_input_mask, \n",
    "                        labels=b_labels)\n",
    "        \n",
    "        # Move logits and labels to CPU\n",
    "        logits = outputs[1].detach().cpu().numpy()\n",
    "        label_ids = b_labels.to('cpu').numpy()\n",
    "        train_acc += flat_accuracy(logits, label_ids)\n",
    "        \n",
    "        nb_train_examples += b_input_ids.size(0)\n",
    "        nb_train_steps += 1\n",
    "        \n",
    "        train_predictions.extend([list(p) for p in np.argmax(logits, axis=2)])\n",
    "        train_true_labels.extend(label_ids)\n",
    "        # get the loss\n",
    "        loss = outputs[0]\n",
    "        \n",
    "        # Perform a backward pass to calculate the gradients.\n",
    "        loss.backward()\n",
    "        \n",
    "        # track train loss\n",
    "        total_loss += loss.item()\n",
    "        \n",
    "        # Clip the norm of the gradient\n",
    "        # This is to help prevent the \"exploding gradients\" problem.\n",
    "        torch.nn.utils.clip_grad_norm_(parameters=model.parameters(), \n",
    "                                       max_norm=max_grad_norm)\n",
    "        \n",
    "        # update parameters\n",
    "        optimizer.step()\n",
    "        \n",
    "        # Update the learning rate.\n",
    "        scheduler.step()\n",
    "\n",
    "    # Calculate the average loss over the training data.\n",
    "    avg_train_loss = total_loss / len(train_dataloader)\n",
    "    train_pred_tags = [tags_vals[p_i] for p, l in zip(train_predictions, train_true_labels)\n",
    "                                 for p_i, l_i in zip(p, l) if tags_vals[l_i]  != 'CLS' and tags_vals[l_i]  != 'SEP' and tags_vals[l_i]  != 'X']\n",
    "    train_valid_tags = [tags_vals[l_i] for l in train_true_labels\n",
    "                                  for l_i in l if tags_vals[l_i]  != 'CLS' and tags_vals[l_i]  != 'SEP' and tags_vals[l_i]  != 'X']\n",
    "    train_f1_score = f1_score(train_pred_tags, train_valid_tags)\n",
    "    print(\"################## TRAIN ##################\")\n",
    "    print(f'Average train loss: {avg_train_loss}')\n",
    "    print(f'Train Accuracy: {train_acc / nb_train_steps}')\n",
    "    print(f'Train F1-Score: {train_f1_score}')\n",
    "    # Store the loss value for plotting the learning curve.\n",
    "    train_losses.append(avg_train_loss)\n",
    "    train_accuracy.append(train_acc / nb_train_steps)\n",
    "    train_f1.append(train_f1_score)\n",
    "\n",
    "\n",
    "    # ========================================\n",
    "    #               Validation\n",
    "    # ========================================\n",
    "    # After the completion of each training epoch, measure our performance on\n",
    "    # our validation set.\n",
    "\n",
    "    # Put the model into evaluation mode\n",
    "    model.eval()\n",
    "    \n",
    "    # Reset the validation loss for this epoch.\n",
    "    eval_loss, eval_accuracy = 0, 0\n",
    "    \n",
    "    nb_eval_steps, nb_eval_examples = 0, 0\n",
    "    val_predictions , val_true_labels = [], []\n",
    "    \n",
    "    for batch in (valid_dataloader):\n",
    "        batch = tuple(t.to(device) for t in batch)\n",
    "        b_input_ids, b_input_mask, b_labels = batch\n",
    "        \n",
    "        b_input_ids = b_input_ids.type(torch.LongTensor)\n",
    "        b_input_mask = b_input_mask.type(torch.LongTensor)\n",
    "        b_labels = b_labels.type(torch.LongTensor)\n",
    "        \n",
    "        b_input_ids = b_input_ids.to(device)\n",
    "        b_input_mask = b_input_mask.to(device)\n",
    "        b_labels = b_labels.to(device)\n",
    "        \n",
    "        # Telling the model not to compute or store gradients,\n",
    "        # saving memory and speeding up validation\n",
    "        with torch.no_grad():\n",
    "            \n",
    "            # Forward pass, calculate logit predictions.\n",
    "            # This will return the logits rather than the loss because we have not provided labels.\n",
    "            outputs = model(b_input_ids, \n",
    "                            token_type_ids=None,\n",
    "                            attention_mask=b_input_mask, \n",
    "                            labels=b_labels)\n",
    "        \n",
    "        # Move logits and labels to CPU\n",
    "        logits = outputs[1].detach().cpu().numpy()\n",
    "        label_ids = b_labels.to('cpu').numpy()\n",
    "\n",
    "        # Calculate the accuracy for this batch of test sentences.\n",
    "        eval_loss += outputs[0].mean().item()\n",
    "        eval_accuracy += flat_accuracy(logits, label_ids)\n",
    "        val_predictions.extend([list(p) for p in np.argmax(logits, axis=2)])\n",
    "        val_true_labels.extend(label_ids)\n",
    "\n",
    "        nb_eval_examples += b_input_ids.size(0)\n",
    "        nb_eval_steps += 1\n",
    "\n",
    "    eval_loss = eval_loss / nb_eval_steps\n",
    "\n",
    "    val_pred_tags = [tags_vals[p_i] for p, l in zip(val_predictions, val_true_labels)\n",
    "                                 for p_i, l_i in zip(p, l) if tags_vals[l_i]  != 'CLS' and tags_vals[l_i]  != 'SEP' and tags_vals[l_i]  != 'X']\n",
    "    val_valid_tags = [tags_vals[l_i] for l in val_true_labels\n",
    "                                  for l_i in l if tags_vals[l_i]  != 'CLS' and tags_vals[l_i]  != 'SEP' and tags_vals[l_i]  != 'X']\n",
    "    val_f1_score = f1_score(val_pred_tags, val_valid_tags)\n",
    "    print()\n",
    "    print(\"################## VALIDATION ##################\")\n",
    "    print(f'Validation loss: {eval_loss}')\n",
    "    print(f'Validation Accuracy: {eval_accuracy / nb_eval_steps}')\n",
    "    print(f'Validation F1-Score: {val_f1_score}')\n",
    "    val_losses.append(eval_loss)\n",
    "    val_accuracy.append(eval_accuracy / nb_eval_steps)\n",
    "    val_f1.append(val_f1_score)"
   ]
  },
  {
   "cell_type": "code",
   "execution_count": 39,
   "metadata": {},
   "outputs": [],
   "source": [
    "bert_out_address = 'models/bert_45_32_2'\n",
    "bert_plot_address = 'plots/bert_45_32_2'\n",
    "if not os.path.exists(bert_out_address):\n",
    "        os.makedirs(bert_out_address)\n",
    "if not os.path.exists(bert_plot_address):\n",
    "        os.makedirs(bert_plot_address)"
   ]
  },
  {
   "cell_type": "code",
   "execution_count": 40,
   "metadata": {},
   "outputs": [],
   "source": [
    "model_to_save = model.module if hasattr(model, 'module') else model  # Only save the model it-self\n"
   ]
  },
  {
   "cell_type": "code",
   "execution_count": 41,
   "metadata": {},
   "outputs": [
    {
     "data": {
      "text/plain": [
       "('models/bert_45_32_2\\\\vocab.txt',)"
      ]
     },
     "execution_count": 41,
     "metadata": {},
     "output_type": "execute_result"
    }
   ],
   "source": [
    "# If we save using the predefined names, we can load using `from_pretrained`\n",
    "output_model_file = os.path.join(bert_out_address, \"pytorch_model.bin\")\n",
    "output_config_file = os.path.join(bert_out_address, \"config.json\")\n",
    "\n",
    "# Save model into file\n",
    "torch.save(model_to_save.state_dict(), output_model_file)\n",
    "model_to_save.config.to_json_file(output_config_file)\n",
    "tokenizer.save_vocabulary(bert_out_address)"
   ]
  },
  {
   "cell_type": "code",
   "execution_count": 42,
   "metadata": {},
   "outputs": [
    {
     "data": {
      "image/png": "[encoded data removed]",
      "text/plain": [
       "<Figure size 648x288 with 1 Axes>"
      ]
     },
     "metadata": {},
     "output_type": "display_data"
    }
   ],
   "source": [
    "# Increase the plot size and font size\n",
    "plt.rcParams[\"figure.figsize\"] = (9, 4)\n",
    "\n",
    "# Plot the learning curve.\n",
    "plt.plot(train_losses, 'b-o', label=\"training loss\")\n",
    "plt.plot(val_losses, 'r-o', label=\"validation loss\")\n",
    "\n",
    "# Label the plot.\n",
    "plt.title(\"Learning curve\")\n",
    "plt.xlabel(\"Epoch\")\n",
    "plt.ylabel(\"Loss\")\n",
    "plt.legend()\n",
    "output_img_file = os.path.join(bert_plot_address, \"loss.png\")\n",
    "plt.savefig(output_img_file)\n",
    "plt.show()\n",
    "\n"
   ]
  },
  {
   "cell_type": "code",
   "execution_count": 43,
   "metadata": {},
   "outputs": [
    {
     "data": {
      "image/png": "[encoded data removed]",
      "text/plain": [
       "<Figure size 648x288 with 1 Axes>"
      ]
     },
     "metadata": {},
     "output_type": "display_data"
    }
   ],
   "source": [
    "# Increase the plot size and font size\n",
    "plt.rcParams[\"figure.figsize\"] = (9, 4)\n",
    "\n",
    "# Plot the learning curve.\n",
    "plt.plot(train_accuracy, 'b-o', label=\"training accuracy\")\n",
    "plt.plot(val_accuracy, 'r-o', label=\"validation accuracy\")\n",
    "\n",
    "# Label the plot.\n",
    "plt.title(\"Learning curve\")\n",
    "plt.xlabel(\"Epoch\")\n",
    "plt.ylabel(\"Accuracy\")\n",
    "plt.legend()\n",
    "output_img_file = os.path.join(bert_plot_address, \"acc.png\")\n",
    "plt.savefig(output_img_file)\n",
    "plt.show()"
   ]
  },
  {
   "cell_type": "code",
   "execution_count": 44,
   "metadata": {},
   "outputs": [
    {
     "data": {
      "image/png": "[encoded data removed]",
      "text/plain": [
       "<Figure size 648x288 with 1 Axes>"
      ]
     },
     "metadata": {},
     "output_type": "display_data"
    }
   ],
   "source": [
    "# Increase the plot size and font size\n",
    "plt.rcParams[\"figure.figsize\"] = (9, 4)\n",
    "\n",
    "# Plot the learning curve.\n",
    "plt.plot(train_f1, 'b-o', label=\"training F1-Score\")\n",
    "plt.plot(val_f1, 'r-o', label=\"validation F1-Score\")\n",
    "\n",
    "# Label the plot.\n",
    "plt.title(\"Learning curve\")\n",
    "plt.xlabel(\"Epoch\")\n",
    "plt.ylabel(\"F1-Score\")\n",
    "plt.legend()\n",
    "output_img_file = os.path.join(bert_plot_address, \"f1.png\")\n",
    "plt.savefig(output_img_file)\n",
    "plt.show()\n"
   ]
  },
  {
   "cell_type": "code",
   "execution_count": 45,
   "metadata": {},
   "outputs": [],
   "source": [
    "model.eval();\n"
   ]
  },
  {
   "cell_type": "code",
   "execution_count": 46,
   "metadata": {},
   "outputs": [],
   "source": [
    "test_data = TensorDataset(test_inputs,\n",
    "                           test_masks, \n",
    "                           test_tags)\n",
    "test_sampler = SequentialSampler(test_data)\n",
    "test_dataloader = DataLoader(test_data,\n",
    "                              sampler=test_sampler,\n",
    "                              batch_size=batch_size)"
   ]
  },
  {
   "cell_type": "code",
   "execution_count": 47,
   "metadata": {},
   "outputs": [
    {
     "name": "stdout",
     "output_type": "stream",
     "text": [
      "***** Running evaluation *****\n",
      "  Num examples = 9592\n",
      "  Batch size = 32\n",
      "f1 score: 0.823880\n",
      "Accuracy score: 0.968290\n",
      "***** Eval results *****\n",
      "\n",
      "           precision    recall  f1-score   support\n",
      "\n",
      "      tim     0.8706    0.8708    0.8707      4057\n",
      "      org     0.6701    0.6559    0.6629      4124\n",
      "      gpe     0.9497    0.9467    0.9482      3134\n",
      "      geo     0.8398    0.9010    0.8693      7502\n",
      "      per     0.7615    0.7878    0.7744      3393\n",
      "      art     0.0000    0.0000    0.0000        94\n",
      "      nat     0.3714    0.3250    0.3467        40\n",
      "      eve     0.2830    0.2143    0.2439        70\n",
      "\n",
      "micro avg     0.8152    0.8327    0.8239     22414\n",
      "macro avg     0.8116    0.8327    0.8217     22414\n",
      "\n",
      "f1 score: 0.823880\n",
      "Accuracy score: 0.968290\n"
     ]
    }
   ],
   "source": [
    "eval_loss, eval_accuracy = 0, 0\n",
    "nb_eval_steps, nb_eval_examples = 0, 0\n",
    "y_true = []\n",
    "y_pred = []\n",
    "\n",
    "print(\"***** Running evaluation *****\")\n",
    "print(\"  Num examples = {}\".format(len(test_inputs)))\n",
    "print(\"  Batch size = {}\".format(batch_size))\n",
    "for step, batch in enumerate(test_dataloader):\n",
    "    batch = tuple(t.to(device) for t in batch)\n",
    "    input_ids, input_mask, labels = batch\n",
    "\n",
    "    input_ids = input_ids.type(torch.LongTensor)\n",
    "    input_mask = input_mask.type(torch.LongTensor)\n",
    "    labels = labels.type(torch.LongTensor)\n",
    "\n",
    "    input_ids = input_ids.to(device)\n",
    "    input_mask = input_mask.to(device)\n",
    "    labels = labels.to(device)\n",
    "    \n",
    "    with torch.no_grad():\n",
    "        outputs = model(input_ids, token_type_ids=None,\n",
    "        attention_mask=input_mask,)\n",
    "        # For eval mode, the first result of outputs is logits\n",
    "        logits = outputs[0] \n",
    "    \n",
    "    # Get NER predict result\n",
    "    logits = torch.argmax(F.log_softmax(logits,dim=2),dim=2)\n",
    "    logits = logits.detach().cpu().numpy()\n",
    "    \n",
    "    \n",
    "    # Get NER true result\n",
    "    labels = labels.to('cpu').numpy()\n",
    "    \n",
    "    \n",
    "    # Only predict the real word, mark=0, will not calculate\n",
    "    input_mask = input_mask.to('cpu').numpy()\n",
    "    \n",
    "    for i,mask in enumerate(input_mask):\n",
    "        temp_1 = []\n",
    "        temp_2 = []\n",
    "        \n",
    "        for j, m in enumerate(mask):\n",
    "            # Mark=0, meaning its a pad word, dont compare\n",
    "            if m:\n",
    "                if tag2name[labels[i][j]] != \"X\" and tag2name[labels[i][j]] != \"[CLS]\" and tag2name[labels[i][j]] != \"[SEP]\" : # Exclude the X label\n",
    "                    temp_1.append(tag2name[labels[i][j]])\n",
    "                    temp_2.append(tag2name[logits[i][j]])\n",
    "            else:\n",
    "                break\n",
    "        \n",
    "            \n",
    "        y_true.append(temp_1)\n",
    "        y_pred.append(temp_2)\n",
    "\n",
    "        \n",
    "\n",
    "print(\"f1 score: %f\"%(f1_score(y_true, y_pred)))\n",
    "print(\"Accuracy score: %f\"%(accuracy_score(y_true, y_pred)))\n",
    "\n",
    "report = classification_report(y_true, y_pred,digits=4)\n",
    "\n",
    "output_eval_file = os.path.join(bert_plot_address, \"test_results.txt\")\n",
    "with open(output_eval_file, \"w\") as writer:\n",
    "    print(\"***** Eval results *****\")\n",
    "    print(\"\\n%s\"%(report))\n",
    "    print(\"f1 score: %f\"%(f1_score(y_true, y_pred)))\n",
    "    print(\"Accuracy score: %f\"%(accuracy_score(y_true, y_pred)))\n",
    "    \n",
    "    writer.write(\"f1 score:\\n\")\n",
    "    writer.write(str(f1_score(y_true, y_pred)))\n",
    "    writer.write(\"\\n\\nAccuracy score:\\n\")\n",
    "    writer.write(str(accuracy_score(y_true, y_pred)))\n",
    "    writer.write(\"\\n\\n\")  \n",
    "    writer.write(report)"
   ]
  },
  {
   "cell_type": "code",
   "execution_count": null,
   "metadata": {},
   "outputs": [],
   "source": []
  }
 ],
 "metadata": {
  "kernelspec": {
   "display_name": "Python 3",
   "language": "python",
   "name": "python3"
  },
  "language_info": {
   "codemirror_mode": {
    "name": "ipython",
    "version": 3
   },
   "file_extension": ".py",
   "mimetype": "text/x-python",
   "name": "python",
   "nbconvert_exporter": "python",
   "pygments_lexer": "ipython3",
   "version": "3.7.7"
  }
 },
 "nbformat": 4,
 "nbformat_minor": 1
}
